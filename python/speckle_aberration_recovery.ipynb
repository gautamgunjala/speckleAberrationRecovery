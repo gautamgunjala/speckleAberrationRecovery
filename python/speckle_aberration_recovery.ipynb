{
 "cells": [
  {
   "cell_type": "markdown",
   "metadata": {},
   "source": [
    "# Speckle aberration recovery"
   ]
  },
  {
   "cell_type": "markdown",
   "metadata": {},
   "source": [
    "This is a python notebook\n",
    "\n",
    "There is an equivalent for matlab\n",
    "\n",
    "you can also run the python script `speckle_aberration_reconver.py`"
   ]
  },
  {
   "cell_type": "markdown",
   "metadata": {},
   "source": [
    "Gautam Gunjala & Antoine Wojdyla, June 2020"
   ]
  },
  {
   "cell_type": "code",
   "execution_count": 1,
   "metadata": {},
   "outputs": [],
   "source": [
    "import numpy as np"
   ]
  },
  {
   "cell_type": "markdown",
   "metadata": {},
   "source": [
    "## physical paramaters"
   ]
  },
  {
   "cell_type": "code",
   "execution_count": 2,
   "metadata": {},
   "outputs": [],
   "source": [
    "# physical paramaters\n",
    "\n",
    "# wavelength\n",
    "lambda_m = 13.5e-9\n",
    "\n",
    "# pixel size\n",
    "px_m = 15e-9\n",
    "\n",
    "# numerical aperture\n",
    "NA = 0.33/4"
   ]
  },
  {
   "cell_type": "markdown",
   "metadata": {},
   "source": [
    "## load experimental data"
   ]
  },
  {
   "cell_type": "code",
   "execution_count": 3,
   "metadata": {},
   "outputs": [],
   "source": [
    "from PIL import Image\n",
    "#from os import getcwd\n",
    "\n",
    "#folder = getcwd()+ \"/../data/\"\n",
    "#os.path.sep\n",
    "folder = \"/Users/awojdyla/speckleAberrationRecovery/data/\"\n",
    "\n",
    "img = ()\n",
    "N_img = 10\n",
    "for i_f in np.arange(N_img):\n",
    "    img_data = np.asarray(Image.open(folder+\"SHARP-%02.0f\"%i_f+\".png\"))\n",
    "    img += (img_data,)\n",
    "\n",
    "# illumination angles\n",
    "sx = [+5.000e-02, +0.000e+00, -2.000e-01, +0.000e+00, +2.000e-01, -2.000e-01, +2.000e-01, -2.000e-01, +0.000e+00, +2.000e-01]\n",
    "sy = [+0.000e+00, +0.000e+00, -2.000e-01, -2.000e-01, -2.000e-01, +0.000e+00, +0.000e+00, +2.000e-01, +2.000e-01, +2.000e-01]"
   ]
  },
  {
   "cell_type": "code",
   "execution_count": 4,
   "metadata": {},
   "outputs": [],
   "source": [
    "# alternative method to read data\n",
    "import h5py\n",
    "from os import getcwd\n",
    "folder = getcwd()+ \"/../data/\"\n",
    "filename = \"speckle_data.hdf5\"\n",
    "filepath = \"/Users/awojdyla/speckleAberrationRecovery/data/speckle_data.hdf5\"\n",
    "f_data = h5py.File(filepath, 'r')\n",
    "\n",
    "img = ()\n",
    "sx = ()\n",
    "sy = ()\n",
    "N_img = 10\n",
    "for i_f in np.arange(N_img):\n",
    "    img_data = np.transpose(np.asarray(f_data['image%02.0f'%(i_f+1)+'/data']))\n",
    "    sx_data  = np.asarray(f_data['image%02.0f'%(i_f+1)+'/sx'])\n",
    "    sy_data  = np.asarray(f_data['image%02.0f'%(i_f+1)+'/sy'])\n",
    "    img += (img_data,)\n",
    "    sx += (sx,)\n",
    "    sy += (sy,)"
   ]
  },
  {
   "cell_type": "code",
   "execution_count": 5,
   "metadata": {},
   "outputs": [
    {
     "data": {
      "text/plain": [
       "<Figure size 640x480 with 2 Axes>"
      ]
     },
     "metadata": {},
     "output_type": "display_data"
    }
   ],
   "source": [
    "# display data\n",
    "import matplotlib.pyplot as plt\n",
    "\n",
    "#image index\n",
    "i_f = 1\n",
    "\n",
    "#image scaing\n",
    "Dx_m = 2048*px_m\n",
    "\n",
    "plt.imshow(img[i_f], \n",
    "           extent=(-Dx_m/2*1e6,+Dx_m/2*1e6,-Dx_m/2*1e6,+Dx_m/2*1e6 ),\n",
    "           cmap=plt.get_cmap('gray'))\n",
    "plt.title('image %2.0f'%i_f)\n",
    "plt.xlabel('position [um]')\n",
    "plt.ylabel('position [um]')\n",
    "plt.colorbar()\n",
    "plt.show()"
   ]
  },
  {
   "cell_type": "markdown",
   "metadata": {},
   "source": [
    "## Pre-process data"
   ]
  },
  {
   "cell_type": "code",
   "execution_count": 6,
   "metadata": {},
   "outputs": [
    {
     "data": {
      "image/png": "[encoded data removed]",
      "text/plain": [
       "<Figure size 432x288 with 1 Axes>"
      ]
     },
     "metadata": {
      "needs_background": "light"
     },
     "output_type": "display_data"
    }
   ],
   "source": [
    "# frequency scale\n",
    "fs  = lambda t: (np.arange(0,1/(t[1]-t[0]),1/((t[1]-t[0])*len(t)))) - (1/(t[1]-t[0])-np.mod(len(t),2)*1/((t[1]-t[0])*len(t)))/2\n",
    "#fs  = lambda t: (np.arange(0,1/(t[1]-t[0])-1/((t[1]-t[0])*len(t)),1/((t[1]-t[0])*len(t)))) - (1/(t[1]-t[0])-np.mod(len(t),2)*1/((t[1]-t[0])*len(t)))/2\n",
    "# centered Fourier transform\n",
    "ft  =  lambda img: np.fft.fftshift( np.fft.ifft2( np.fft.ifftshift( img ) ) )\n",
    "# centered inverse Fourier transform\n",
    "ift = lambda IMG:  np.fft.fftshift(  np.fft.fft2( np.fft.ifftshift( IMG ) ) )\n",
    "\n",
    "# testing helper function (to make sure there's no index error...)\n",
    "x_s = np.arange(0,1,0.001)\n",
    "f0_Hz = 10\n",
    "s = np.sin(2*3.14*f0_Hz*x_s)\n",
    "#S = ft(s)\n",
    "f_cpm = fs(x_s)\n",
    "S = ft(np.reshape(s,(1000,1)))\n",
    "plt.plot(f_cpm, np.abs(S))\n",
    "plt.title('FT of a sine wave with f=10Hz')\n",
    "plt.xlabel('frequency [/m]')\n",
    "plt.ylabel('FT magnitude')\n",
    "plt.xlim((-15,15))\n",
    "plt.show()"
   ]
  },
  {
   "cell_type": "code",
   "execution_count": 7,
   "metadata": {},
   "outputs": [],
   "source": [
    "# whitening \n",
    "\n"
   ]
  },
  {
   "cell_type": "markdown",
   "metadata": {},
   "source": [
    "let's go!"
   ]
  },
  {
   "cell_type": "markdown",
   "metadata": {},
   "source": [
    "## Extract aberration"
   ]
  },
  {
   "cell_type": "code",
   "execution_count": null,
   "metadata": {},
   "outputs": [],
   "source": []
  },
  {
   "cell_type": "code",
   "execution_count": 8,
   "metadata": {},
   "outputs": [],
   "source": [
    "# display results"
   ]
  }
 ],
 "metadata": {
  "kernelspec": {
   "display_name": "Python 3",
   "language": "python",
   "name": "python3"
  },
  "language_info": {
   "codemirror_mode": {
    "name": "ipython",
    "version": 3
   },
   "file_extension": ".py",
   "mimetype": "text/x-python",
   "name": "python",
   "nbconvert_exporter": "python",
   "pygments_lexer": "ipython3",
   "version": "3.7.4"
  }
 },
 "nbformat": 4,
 "nbformat_minor": 2
}
